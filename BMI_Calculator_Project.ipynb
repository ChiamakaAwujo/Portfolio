{
  "nbformat": 4,
  "nbformat_minor": 0,
  "metadata": {
    "colab": {
      "provenance": [],
      "authorship_tag": "ABX9TyOZ3yQU14YgjgJt1snDLy24",
      "include_colab_link": true
    },
    "kernelspec": {
      "name": "python3",
      "display_name": "Python 3"
    },
    "language_info": {
      "name": "python"
    }
  },
  "cells": [
    {
      "cell_type": "markdown",
      "metadata": {
        "id": "view-in-github",
        "colab_type": "text"
      },
      "source": [
        "<a href=\"https://colab.research.google.com/github/ChiamakaAwujo/Portfolio/blob/main/BMI_Calculator_Project.ipynb\" target=\"_parent\"><img src=\"https://colab.research.google.com/assets/colab-badge.svg\" alt=\"Open In Colab\"/></a>"
      ]
    },
    {
      "cell_type": "code",
      "execution_count": 10,
      "metadata": {
        "colab": {
          "base_uri": "https://localhost:8080/"
        },
        "id": "1o5AYVoYrWFo",
        "outputId": "46f9d27e-819b-4912-e02c-dd4b86b8784a"
      },
      "outputs": [
        {
          "output_type": "stream",
          "name": "stdout",
          "text": [
            "Enter your weight in pounds: 155\n",
            "Enter your weight in inches: 64.6\n",
            "\n",
            "Your BMI is 26.1\n",
            "Your BMI classification is Overweight.\n",
            "You have increased health risks\n"
          ]
        }
      ],
      "source": [
        "weight = float(input('Enter your weight in pounds: '))\n",
        "\n",
        "height = float(input('Enter your weight in inches: '))\n",
        "\n",
        "BMI = (weight * 703) / (height * height)\n",
        "\n",
        "Rounded_BMI = round(BMI, 1)\n",
        "\n",
        "print('\\nYour BMI is', Rounded_BMI)\n",
        "\n",
        "if BMI >= 40:\n",
        "  print('Your BMI classification is Morbidly Obese.\\nYour health risks are extremely high')\n",
        "elif BMI >= 35:\n",
        "  print('Your BMI classification is Severely Obese.\\nYour health risks are very high')\n",
        "elif BMI >= 30:\n",
        "  print('Your BMI classification is Obese.\\nYour health risks are high')\n",
        "elif BMI >= 25:\n",
        "  print('Your BMI classification is Overweight.\\nYou have increased health risks')\n",
        "elif BMI >= 18.5:\n",
        "  print('Your BMI classification is Normal Weight.\\nYour health risks are minimal')\n",
        "elif BMI >= 0:\n",
        "  print('Your BMI classification is Underweight.\\nYour health risks are minimal')\n",
        "else:\n",
        "  print('Invalid')"
      ]
    },
    {
      "cell_type": "markdown",
      "source": [
        "Steps for process\n",
        "\n",
        "\n",
        "1.  calculate weight and height\n",
        "2.  calculate BMI (weight in pounds X 703) / (height in inches x height in inches)\n",
        "\n"
      ],
      "metadata": {
        "id": "Q6YqnGftrx-J"
      }
    }
  ]
}